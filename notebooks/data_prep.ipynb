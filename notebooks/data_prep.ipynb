{
 "cells": [
  {
   "cell_type": "markdown",
   "id": "d665b955-9a6e-410d-8332-136dd6272e65",
   "metadata": {},
   "source": [
    "### Data Processing Script\n",
    "\n",
    "> Note: This code should not be needed and is only here in case you want to download and reprocess\n",
    "> the original data from Kaggle. If you do please visit [https://www.kaggle.com/datasets/jorgeruizdev/ludwig-music-dataset-moods-and-subgenres/](https://www.kaggle.com/datasets/jorgeruizdev/ludwig-music-dataset-moods-and-subgenres/)."
   ]
  },
  {
   "cell_type": "code",
   "execution_count": null,
   "id": "adec5288-6595-445e-8a4d-0a05e5906e15",
   "metadata": {},
   "outputs": [],
   "source": [
    "# import the needed modules\n",
    "from IPython.display import Audio as player\n",
    "from datasets import load_dataset, Audio\n",
    "from panns_inference import AudioTagging\n",
    "from qdrant_client import QdrantClient\n",
    "from qdrant_client.http import models\n",
    "from os.path import join\n",
    "from glob import glob\n",
    "import pandas as pd\n",
    "import numpy as np\n",
    "import librosa\n",
    "import openl3\n",
    "import torch\n",
    "import os"
   ]
  },
  {
   "cell_type": "code",
   "execution_count": null,
   "id": "93c9187f-72fc-46ac-a576-ba6c662d0035",
   "metadata": {},
   "outputs": [],
   "source": [
    "# retrieve all the mp3s for all the genres\n",
    "data_root = \"./data\"\n",
    "mp3_data = []\n",
    "mp3_root = join(data_root, \"mp3\", \"mp3\")\n",
    "for genre in os.listdir(mp3_root):\n",
    "    gdir = join(mp3_root, genre)\n",
    "    for mp3 in os.listdir(gdir):\n",
    "        mp3_data.append(join(gdir,mp3))\n",
    "\n",
    "print(len(mp3_data))\n",
    "print(mp3_data[:5])"
   ]
  },
  {
   "cell_type": "code",
   "execution_count": null,
   "id": "cec72a4e-c5e5-4c58-80e8-f6e72ae7eda0",
   "metadata": {},
   "outputs": [],
   "source": [
    "# NOTE: this will run for quite some time (5-20m)\n",
    "# load part of the data from the filesystem\n",
    "music_data = load_dataset(\"audiofolder\", data_files=mp3_data, split=\"train\", drop_labels=True)\n",
    "print(\"loaded dataset....\")\n",
    "# use the filenames as ids\n",
    "ids = [\n",
    "    (\n",
    "     music_data[i] # for every sample\n",
    "     ['audio'] # in this directory\n",
    "     ['path'] # extract the path\n",
    "     .split(\"/\") # split it by /\n",
    "     [-1] # take only the last piece \"id.mp3\"\n",
    "     .replace(\".mp3\", '') # and replace the .mp3 with nothing\n",
    "    ) \n",
    "    for i in range(len(music_data))    \n",
    "]\n",
    "\n",
    "index = [num for num in range(len(music_data))]\n",
    "music_data = music_data.add_column(\"index\", index)\n",
    "music_data = music_data.add_column(\"ids\", ids)\n",
    "music_data[-1]"
   ]
  },
  {
   "cell_type": "code",
   "execution_count": null,
   "id": "84da3b0a-8144-4ccd-8429-35b39cd70bee",
   "metadata": {},
   "outputs": [],
   "source": [
    "# persist the dataset as Apache Arrow\n",
    "music_data.save_to_disk(\"./data/complete_music_data_set.arrow\")"
   ]
  },
  {
   "cell_type": "code",
   "execution_count": null,
   "id": "dcf9a226-62e7-4c9f-b267-b24e585553f0",
   "metadata": {},
   "outputs": [],
   "source": [
    "# here we build the metadata\n",
    "# load the raw data\n",
    "label_path = join(data_root, \"labels.json\")\n",
    "labels = pd.read_json(label_path)\n",
    "\n",
    "# create a helper function to explode/split out the data to get it into a prettier dataframe\n",
    "def get_metadata(x):\n",
    "    cols = ['artist', 'genre', 'name', 'subgenres']\n",
    "    list_of_cols = []\n",
    "    for col in cols:\n",
    "        try:\n",
    "            mdata = list(x[col].values())[0]\n",
    "        except:\n",
    "            mdata = \"Unknown\"\n",
    "        list_of_cols.append(mdata)\n",
    "\n",
    "    return pd.Series(list_of_cols, index=cols)\n",
    "# apply the helper function to the right column in the dataframe\n",
    "clean_labels = labels['tracks'].apply(get_metadata).reset_index()\n",
    "\n",
    "# create a helper to explode the sub genres\n",
    "def get_vals(genres):\n",
    "    genre_list = []\n",
    "    for dicts in genres:\n",
    "        if type(dicts) != str:\n",
    "            for _, val in dicts.items():\n",
    "                genre_list.append(val)\n",
    "    return genre_list\n",
    "# apply it\n",
    "clean_labels['subgenres'] = clean_labels.subgenres.apply(get_vals)\n",
    "\n",
    "# build a list of the file locations\n",
    "ids = [i.split('/')[-1].replace(\".mp3\", '') for i in mp3_data]\n",
    "music_paths = pd.DataFrame(zip(ids, mp3_data), columns=[\"ids\", 'urls'])\n",
    "\n",
    "# now join the music_data, with the labels and the paths all into one data frame to use for the next stage\n",
    "metadata = (music_data.select_columns(['index', 'ids'])\n",
    "                     .to_pandas()\n",
    "                     .merge(right=clean_labels, how=\"left\", left_on='ids', right_on='index')\n",
    "                     .merge(right=music_paths, how=\"left\", left_on='ids', right_on='ids')\n",
    "                     .drop(\"index_y\", axis=1)\n",
    "                     .rename({\"index_x\": \"index\"}, axis=1)\n",
    "           )\n",
    "# drop a few columns and then save it as a json\n",
    "metadata.drop(['index', 'ids'], axis=1).to_dict(orient=\"records\")\n",
    "metadata.to_json(\"./data/metatdata_complete_music_data_set.json\")"
   ]
  }
 ],
 "metadata": {
  "kernelspec": {
   "display_name": "Python 3 (ipykernel)",
   "language": "python",
   "name": "python3"
  },
  "language_info": {
   "codemirror_mode": {
    "name": "ipython",
    "version": 3
   },
   "file_extension": ".py",
   "mimetype": "text/x-python",
   "name": "python",
   "nbconvert_exporter": "python",
   "pygments_lexer": "ipython3",
   "version": "3.11.6"
  }
 },
 "nbformat": 4,
 "nbformat_minor": 5
}
