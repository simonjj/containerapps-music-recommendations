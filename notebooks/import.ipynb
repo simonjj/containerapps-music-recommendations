{
 "cells": [
  {
   "cell_type": "markdown",
   "id": "d5cb1394-428d-4f2c-90de-0a429dbb7dfd",
   "metadata": {},
   "source": [
    "### Execute the code below to import pre-generated embeddings"
   ]
  },
  {
   "cell_type": "code",
   "execution_count": null,
   "id": "2d12c0d1-759f-42a8-a571-83f0b1b4cbc8",
   "metadata": {
    "tags": []
   },
   "outputs": [],
   "source": [
    "import requests\n",
    "import os\n",
    "from IPython.display import display, Markdown\n",
    "\n",
    "# get the hostname from OS ENV\n",
    "QDRANT_HOST = os.environ.get('QDRANT_HOST', None)\n",
    "\n",
    "if QDRANT_HOST:\n",
    "    url = 'http://%s:6333/collections/my_collection/snapshots/upload?priority=snapshot' % (QDRANT_HOST)\n",
    "    file_path = './data/music_embeddings.snapshot'\n",
    "    display(Markdown(\"**Beginning import, this will take a few minutes, please be patient...**\"))\n",
    "    with open(file_path, 'rb') as f:\n",
    "         files = {'snapshot': f}\n",
    "         response = requests.post(url, files=files)\n",
    "        \n",
    "    if response.status_code == 200:\n",
    "        display(Markdown(\"**...import complete and successful. Ready to move to the next step. Return to the lab instructions now.**\"))\n",
    "    else:\n",
    "        display(Markdown(\"**There was an error importing, try rerunning. If you're continuting to experience this error call a proctor for help.**\"))\n",
    "else:\n",
    "    display(Markdown(\"**Your environment doesn't seem to be connected to a vector DB, please ensure that a add-on with the name `qdrant` exists.**\"))"
   ]
  }
 ],
 "metadata": {
  "kernelspec": {
   "display_name": "Python 3 (ipykernel)",
   "language": "python",
   "name": "python3"
  },
  "language_info": {
   "codemirror_mode": {
    "name": "ipython",
    "version": 3
   },
   "file_extension": ".py",
   "mimetype": "text/x-python",
   "name": "python",
   "nbconvert_exporter": "python",
   "pygments_lexer": "ipython3",
   "version": "3.10.10"
  }
 },
 "nbformat": 4,
 "nbformat_minor": 5
}
