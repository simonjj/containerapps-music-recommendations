{
 "cells": [
  {
   "cell_type": "markdown",
   "id": "54733696-f68e-428b-8a21-a5d4f36c5c7f",
   "metadata": {},
   "source": [
    "# Music Recommendation Service\n",
    "\n",
    "## Using Recommendations\n",
    "\n",
    "This notebook assumes you're familiar with Jupyter and have run the `import.ipynb` notebook successfully. In the next steps we will walk through some basic retrieval and recommendation scenarios."
   ]
  },
  {
   "cell_type": "markdown",
   "id": "43ff498b-158f-4435-baa4-ba3e1883adad",
   "metadata": {
    "tags": []
   },
   "source": [
    "## Import the needed modules & do some setup\n",
    "\n",
    "Note: This code will produce some output to inform you about the state of the model download. GPU support as well as CPU hardware feature support. **These will be highlighted in red. (ignore these)**"
   ]
  },
  {
   "cell_type": "code",
   "execution_count": null,
   "id": "6dd9d42d-0510-4c08-9529-1edfacbf29b3",
   "metadata": {},
   "outputs": [],
   "source": [
    "# import the needed modules\n",
    "from IPython.display import Audio as player\n",
    "from datasets import load_dataset, load_from_disk, Audio\n",
    "from panns_inference import AudioTagging\n",
    "from qdrant_client import QdrantClient\n",
    "from qdrant_client.http import models\n",
    "from os.path import join\n",
    "from glob import glob\n",
    "import pandas as pd\n",
    "import numpy as np\n",
    "import librosa\n",
    "import os\n",
    "MUSIC_COLLECTION_DB = \"my_collection\"\n",
    "\n",
    "# get the hostname from OS ENV\n",
    "QDRANT_HOST = os.environ.get('QDRANT_HOST')\n",
    "# connect to Qdrant vector DB\n",
    "client = QdrantClient(host=QDRANT_HOST, port=6333)\n",
    "print(\"Attempting to connect to %s\" % QDRANT_HOST)\n",
    "# check if our collection already exists\n",
    "collections = client.get_collections()\n",
    "music_collection_exits = False\n",
    "if collections:  \n",
    "    if len(collections.collections) > 0 and collections.collections[0].name == MUSIC_COLLECTION_DB:\n",
    "        print(\"%s exists...\" % MUSIC_COLLECTION_DB)\n",
    "        music_collection_exists = True\n",
    "    else:\n",
    "        print(\"%s doesn't exist...\" % MUSIC_COLLECTION_DB)"
   ]
  },
  {
   "cell_type": "code",
   "execution_count": null,
   "id": "ad6d533a-607e-45a5-8f98-a1c671c949a1",
   "metadata": {},
   "outputs": [],
   "source": [
    "# aquire the data we need here for the next steps\n",
    "music_data = load_from_disk(\"./data/complete_music_data_set.arrow\")\n",
    "metadata = pd.read_json(\"./data/metatdata_complete_music_data_set.json\")\n",
    "payload = metadata.to_dict(orient=\"records\")\n",
    "\n",
    "# a helper function to print song details\n",
    "def print_song(song, recommendation=True, show_embedding=False):\n",
    "    score = \"NA\"\n",
    "    if hasattr(song, \"score\"): score = song.score\n",
    "    if recommendation:\n",
    "        print(\"idx:%s  -- %s by %s with score %s\" % (song.payload['index'], song.payload['name'], song.payload['artist'], score))\n",
    "    else:\n",
    "        print(\"idx:%s  -- %s by %s\" % (song.payload['index'], song.payload['name'], song.payload['artist']))\n",
    "    if show_embedding:\n",
    "        print(song.vector)\n",
    "        print(\"-\" *30)\n",
    "\n",
    "# return a audio player\n",
    "def play_song(song):\n",
    "    index_key = song.payload['index']\n",
    "    #input_song = librosa.core.load(song.payload['urls'], sr=44100, mono=True)\n",
    "    return player(music_data[index_key]['audio']['array'], rate=music_data[index_key]['audio']['sampling_rate'])\n",
    "\n",
    "# retrieve a embedding based on a song index\n",
    "def get_embedding(index_key):\n",
    "    res = client.retrieve(\n",
    "        collection_name=MUSIC_COLLECTION_DB,\n",
    "        ids=[index_key],\n",
    "        with_vectors=True # we can turn this on and off depending on our needs\n",
    "    )\n",
    "    if len(res) > 0: return res[0].vector\n",
    "    else: return None"
   ]
  },
  {
   "cell_type": "code",
   "execution_count": null,
   "id": "3616460a-c131-40cb-909b-849eb17be3af",
   "metadata": {
    "tags": []
   },
   "outputs": [],
   "source": [
    "metadata['genre'].unique()"
   ]
  },
  {
   "cell_type": "markdown",
   "id": "d1dada1d-618d-4e9e-b05e-ccac3d0db1cd",
   "metadata": {
    "tags": []
   },
   "source": [
    "## Let's do a basic lookup against our vector DB first\n",
    "\n",
    "**TASK:**\n",
    "- Find a song you'd like to get recommendations for by changing out the `ids=[45,66,4566]` array.\n",
    "- Try any index under 11,000 and the length of the array to 5 or less."
   ]
  },
  {
   "cell_type": "code",
   "execution_count": null,
   "id": "105505d2-1acd-49df-9535-f2e60806edb1",
   "metadata": {},
   "outputs": [],
   "source": [
    "# this is how we can retrieve some songs from the DB using just IDs\n",
    "lookup = client.retrieve(\n",
    "    collection_name=MUSIC_COLLECTION_DB,\n",
    "    ids=[45,66,4566],\n",
    "    with_vectors=True # we can turn this on and off depending on our needs\n",
    ")\n",
    "\n",
    "# print out the songs we just fetched\n",
    "for song in lookup:\n",
    "    print_song(song, recommendation=False, show_embedding=False)\n",
    "    display(play_song(song))"
   ]
  },
  {
   "cell_type": "markdown",
   "id": "32f8e55d-4a00-4d3c-9818-8e6cdcb1b50e",
   "metadata": {},
   "source": [
    "## Let's retrieve our first recommendation\n",
    "\n",
    "**TASK:**\n",
    "- Plug your song's index/idx/id number into the `get_embedding(4566)` method below\n",
    "- Display and listen to the recommendations"
   ]
  },
  {
   "cell_type": "code",
   "execution_count": null,
   "id": "b05417fa-87c1-4608-a6ae-272cf8f7f9df",
   "metadata": {},
   "outputs": [],
   "source": [
    "# let's do a similarity search, notice the score to see how similar a song is\n",
    "search = client.search(\n",
    "    collection_name=MUSIC_COLLECTION_DB,\n",
    "    query_vector=get_embedding(4566),\n",
    "    limit=5\n",
    ")\n",
    "\n",
    "# note: the first song in our search is the input song itself with score 1.0 (perfect match)\n",
    "print(\"Input song was:\")\n",
    "print_song(search[0])\n",
    "display(play_song(search[0]))\n",
    "        \n",
    "# now let's load and play our recommendation\n",
    "print(\"Recommended songs are:\")\n",
    "for song in search[1:]:\n",
    "    print_song(song)\n",
    "    display(play_song(song))"
   ]
  },
  {
   "cell_type": "markdown",
   "id": "d64c22b9-71cb-4020-b5e3-77219f96ec23",
   "metadata": {
    "tags": []
   },
   "source": [
    "## Let's retrieve recommendations based on multiple songs\n",
    "\n",
    "**TASK:**\n",
    "- Plug in two song ids into the `positive=[855, 566]` array below to get recommendations based on multiple songs\n",
    "- Listen to the songs"
   ]
  },
  {
   "cell_type": "code",
   "execution_count": null,
   "id": "653d1dd5-9748-4211-8743-f0a0590822a2",
   "metadata": {},
   "outputs": [],
   "source": [
    "# here is another way of getting recommendations\n",
    "# instead of inputting the sing we can actually just specify the index of the song we want recommendations for\n",
    "recommendation = client.recommend(\n",
    "                            collection_name=MUSIC_COLLECTION_DB, \n",
    "                            positive=[855, 566], limit=3\n",
    "                    )\n",
    "\n",
    "print(\"Recommended songs:\")\n",
    "for song in recommendation:\n",
    "    print_song(song)\n",
    "    display(play_song(song))"
   ]
  },
  {
   "cell_type": "markdown",
   "id": "a429afbd-4647-4614-8d29-9caadda43bcf",
   "metadata": {
    "tags": []
   },
   "source": [
    "## Let's add a limiting filter\n",
    "\n",
    "This time we will find the closest song in the electronic--disco genre to whatever input song we choose. **Notice the impact on the scores.**\n",
    "\n",
    "**TASK:**\n",
    "- Input your song by editing `positive=[57]`\n",
    "- See which disco songs are closest to your input"
   ]
  },
  {
   "cell_type": "code",
   "execution_count": null,
   "id": "81c52956-51d2-40cd-adef-59a7d16e1a74",
   "metadata": {},
   "outputs": [],
   "source": [
    "# let's do a recommendation that's limited to a particular sub genres\n",
    "subgenre_songs = models.Filter(\n",
    "    must=[models.FieldCondition(key=\"subgenres\", match=models.MatchAny(any=['electronic---disco']))]\n",
    ")\n",
    "\n",
    "subgenre_recommendations = client.recommend(\n",
    "    collection_name=MUSIC_COLLECTION_DB,\n",
    "    query_filter=subgenre_songs,\n",
    "    positive=[57],\n",
    "    #positive=[marc_anthony_valio_la_pena['idx'], 178, 122, 459],\n",
    "    #negative=[385],\n",
    "    limit=5\n",
    ")\n",
    "\n",
    "# print and play songs\n",
    "for song in subgenre_recommendations:\n",
    "    print_song(song)\n",
    "    display(play_song(song))"
   ]
  }
 ],
 "metadata": {
  "kernelspec": {
   "display_name": "Python 3 (ipykernel)",
   "language": "python",
   "name": "python3"
  },
  "language_info": {
   "codemirror_mode": {
    "name": "ipython",
    "version": 3
   },
   "file_extension": ".py",
   "mimetype": "text/x-python",
   "name": "python",
   "nbconvert_exporter": "python",
   "pygments_lexer": "ipython3",
   "version": "3.10.10"
  }
 },
 "nbformat": 4,
 "nbformat_minor": 5
}
